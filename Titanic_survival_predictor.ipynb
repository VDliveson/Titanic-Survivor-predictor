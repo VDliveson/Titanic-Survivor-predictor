{
  "metadata": {
    "kernelspec": {
      "language": "python",
      "display_name": "Python 3",
      "name": "python3"
    },
    "language_info": {
      "pygments_lexer": "ipython3",
      "nbconvert_exporter": "python",
      "version": "3.6.4",
      "file_extension": ".py",
      "codemirror_mode": {
        "name": "ipython",
        "version": 3
      },
      "name": "python",
      "mimetype": "text/x-python"
    },
    "colab": {
      "name": "Titanic survival predictor.ipynb",
      "provenance": [],
      "collapsed_sections": [
        "jKUVb372E_dW",
        "uvY_b5OXE_dZ",
        "7hJH3cuKE_db",
        "v0dKzOELE_dc",
        "YQjCMcaOE_dd",
        "JMVAPzGKE_dd"
      ],
      "include_colab_link": true
    }
  },
  "nbformat_minor": 0,
  "nbformat": 4,
  "cells": [
    {
      "cell_type": "markdown",
      "metadata": {
        "id": "view-in-github",
        "colab_type": "text"
      },
      "source": [
        "<a href=\"https://colab.research.google.com/github/VDliveson/Titanic-Survivor-predictor/blob/main/Titanic_survival_predictor.ipynb\" target=\"_parent\"><img src=\"https://colab.research.google.com/assets/colab-badge.svg\" alt=\"Open In Colab\"/></a>"
      ]
    },
    {
      "cell_type": "code",
      "source": [
        "# This Python 3 environment comes with many helpful analytics libraries installed\n",
        "# It is defined by the kaggle/python Docker image: https://github.com/kaggle/docker-python\n",
        "# For example, here's several helpful packages to load\n",
        "\n",
        "import numpy as np # linear algebra\n",
        "import pandas as pd # data processing, CSV file I/O (e.g. pd.read_csv)\n",
        "\n",
        "# Input data files are available in the read-only \"../input/\" directory\n",
        "# For example, running this (by clicking run or pressing Shift+Enter) will list all files under the input directory\n",
        "\n",
        "import os\n",
        "for dirname, _, filenames in os.walk('/kaggle/input'):\n",
        "    for filename in filenames:\n",
        "        print(os.path.join(dirname, filename))\n",
        "\n",
        "# You can write up to 20GB to the current directory (/kaggle/working/) that gets preserved as output when you create a version using \"Save & Run All\" \n",
        "# You can also write temporary files to /kaggle/temp/, but they won't be saved outside of the current session"
      ],
      "metadata": {
        "_uuid": "b6de396a-e87f-444f-a0b1-8149c00d8f6b",
        "_cell_guid": "4fad6c60-4423-4857-8937-5480c286bdd0",
        "jupyter": {
          "outputs_hidden": false
        },
        "execution": {
          "iopub.status.busy": "2022-08-27T20:46:31.990339Z",
          "iopub.execute_input": "2022-08-27T20:46:31.990997Z",
          "iopub.status.idle": "2022-08-27T20:46:31.999044Z",
          "shell.execute_reply.started": "2022-08-27T20:46:31.990947Z",
          "shell.execute_reply": "2022-08-27T20:46:31.997854Z"
        },
        "trusted": true,
        "id": "Q0OmeJgBE_dK"
      },
      "execution_count": null,
      "outputs": []
    },
    {
      "cell_type": "code",
      "source": [
        "import pandas as pd\n",
        "import numpy as np\n",
        "import matplotlib.pyplot as plt\n",
        "import seaborn as sns\n",
        "from sklearn.linear_model import LogisticRegression\n",
        "from sklearn.metrics import accuracy_score\n",
        "from sklearn.model_selection import train_test_split"
      ],
      "metadata": {
        "_uuid": "c5b5e257-6536-4043-b2e2-037fa94b0580",
        "_cell_guid": "2df638da-0647-48c1-8831-402f3015cbf9",
        "jupyter": {
          "outputs_hidden": false
        },
        "execution": {
          "iopub.status.busy": "2022-08-27T20:46:32.000925Z",
          "iopub.execute_input": "2022-08-27T20:46:32.002019Z",
          "iopub.status.idle": "2022-08-27T20:46:32.011958Z",
          "shell.execute_reply.started": "2022-08-27T20:46:32.001917Z",
          "shell.execute_reply": "2022-08-27T20:46:32.011121Z"
        },
        "trusted": true,
        "id": "Fl3Z14k2E_dM"
      },
      "execution_count": null,
      "outputs": []
    },
    {
      "cell_type": "code",
      "source": [
        "train_data=pd.read_csv('/kaggle/input/titanic/train.csv')"
      ],
      "metadata": {
        "_uuid": "53246784-52a0-4e40-8e4f-37f9c8ee17f6",
        "_cell_guid": "15aff2cd-66b4-4aec-8528-847176f01082",
        "jupyter": {
          "outputs_hidden": false
        },
        "execution": {
          "iopub.status.busy": "2022-08-27T20:46:32.013147Z",
          "iopub.execute_input": "2022-08-27T20:46:32.014119Z",
          "iopub.status.idle": "2022-08-27T20:46:32.028597Z",
          "shell.execute_reply.started": "2022-08-27T20:46:32.014085Z",
          "shell.execute_reply": "2022-08-27T20:46:32.027244Z"
        },
        "trusted": true,
        "id": "5tMYXAQCE_dN"
      },
      "execution_count": null,
      "outputs": []
    },
    {
      "cell_type": "code",
      "source": [
        "train_data.head()"
      ],
      "metadata": {
        "_uuid": "f91d6620-274b-4c65-9e7c-3a2dc72edd95",
        "_cell_guid": "0a95644b-9aec-406d-91ed-5dd90c8aa740",
        "jupyter": {
          "outputs_hidden": false
        },
        "execution": {
          "iopub.status.busy": "2022-08-27T20:46:32.031256Z",
          "iopub.execute_input": "2022-08-27T20:46:32.031617Z",
          "iopub.status.idle": "2022-08-27T20:46:32.048962Z",
          "shell.execute_reply.started": "2022-08-27T20:46:32.031587Z",
          "shell.execute_reply": "2022-08-27T20:46:32.047814Z"
        },
        "trusted": true,
        "id": "V64JaXl5E_dO"
      },
      "execution_count": null,
      "outputs": []
    },
    {
      "cell_type": "markdown",
      "source": [
        "## Preprocessing data"
      ],
      "metadata": {
        "_uuid": "4887d206-3e9d-4d07-af77-224f90582cd7",
        "_cell_guid": "5e62c8c2-a54c-43d4-a3f5-b984e204a5c1",
        "trusted": true,
        "id": "LbF3IhMEE_dO"
      }
    },
    {
      "cell_type": "code",
      "source": [
        "train_data.info()"
      ],
      "metadata": {
        "_uuid": "8cb20ff6-abbb-4a3e-a24a-b233e2d1f4ee",
        "_cell_guid": "fcc92f76-bc85-4aec-b911-d8475adf360e",
        "jupyter": {
          "outputs_hidden": false
        },
        "execution": {
          "iopub.status.busy": "2022-08-27T20:46:32.050289Z",
          "iopub.execute_input": "2022-08-27T20:46:32.051253Z",
          "iopub.status.idle": "2022-08-27T20:46:32.065221Z",
          "shell.execute_reply.started": "2022-08-27T20:46:32.051218Z",
          "shell.execute_reply": "2022-08-27T20:46:32.063452Z"
        },
        "trusted": true,
        "id": "pdfhMynGE_dP"
      },
      "execution_count": null,
      "outputs": []
    },
    {
      "cell_type": "code",
      "source": [
        "train_data.isnull().sum()"
      ],
      "metadata": {
        "_uuid": "8b2df028-19c8-46a2-bf8d-9145ef0ca08a",
        "_cell_guid": "788353c6-5117-4d7b-b30d-5c3ab8001536",
        "jupyter": {
          "outputs_hidden": false
        },
        "execution": {
          "iopub.status.busy": "2022-08-27T20:46:32.066857Z",
          "iopub.execute_input": "2022-08-27T20:46:32.067683Z",
          "iopub.status.idle": "2022-08-27T20:46:32.078255Z",
          "shell.execute_reply.started": "2022-08-27T20:46:32.067648Z",
          "shell.execute_reply": "2022-08-27T20:46:32.076923Z"
        },
        "trusted": true,
        "id": "pnSZ8p6FE_dQ"
      },
      "execution_count": null,
      "outputs": []
    },
    {
      "cell_type": "code",
      "source": [
        "train_data=train_data.drop(columns='Cabin',axis=1)"
      ],
      "metadata": {
        "_uuid": "0e874206-f839-43c1-a520-669e597e1f72",
        "_cell_guid": "aa551de9-7fe9-4551-a959-a7ee879e03c0",
        "jupyter": {
          "outputs_hidden": false
        },
        "execution": {
          "iopub.status.busy": "2022-08-27T20:46:32.080226Z",
          "iopub.execute_input": "2022-08-27T20:46:32.080955Z",
          "iopub.status.idle": "2022-08-27T20:46:32.086996Z",
          "shell.execute_reply.started": "2022-08-27T20:46:32.080912Z",
          "shell.execute_reply": "2022-08-27T20:46:32.086019Z"
        },
        "trusted": true,
        "id": "rbl7Z74IE_dR"
      },
      "execution_count": null,
      "outputs": []
    },
    {
      "cell_type": "code",
      "source": [
        "train_data['Age'].fillna(train_data['Age'].mean(),inplace=True)"
      ],
      "metadata": {
        "_uuid": "a55c07a7-4212-44f3-94fa-fb4cd8e5e1e4",
        "_cell_guid": "dc9f6cbe-760e-42cb-8e7c-4adb6cb89d26",
        "jupyter": {
          "outputs_hidden": false
        },
        "execution": {
          "iopub.status.busy": "2022-08-27T20:46:32.088320Z",
          "iopub.execute_input": "2022-08-27T20:46:32.088753Z",
          "iopub.status.idle": "2022-08-27T20:46:32.098910Z",
          "shell.execute_reply.started": "2022-08-27T20:46:32.088705Z",
          "shell.execute_reply": "2022-08-27T20:46:32.098060Z"
        },
        "trusted": true,
        "id": "N2O16JxhE_dS"
      },
      "execution_count": null,
      "outputs": []
    },
    {
      "cell_type": "code",
      "source": [
        "print(train_data['Embarked'].mode()[0])"
      ],
      "metadata": {
        "_uuid": "47e92dcd-a2ef-4c29-94e8-b2cf36784a60",
        "_cell_guid": "d8319682-4d0e-4c06-b5d9-2aea50c7c360",
        "jupyter": {
          "outputs_hidden": false
        },
        "execution": {
          "iopub.status.busy": "2022-08-27T20:46:32.102152Z",
          "iopub.execute_input": "2022-08-27T20:46:32.103033Z",
          "iopub.status.idle": "2022-08-27T20:46:32.110265Z",
          "shell.execute_reply.started": "2022-08-27T20:46:32.102956Z",
          "shell.execute_reply": "2022-08-27T20:46:32.109126Z"
        },
        "trusted": true,
        "id": "WciG22hEE_dT"
      },
      "execution_count": null,
      "outputs": []
    },
    {
      "cell_type": "code",
      "source": [
        "train_data['Embarked'].fillna(train_data['Embarked'].mode()[0],inplace=True)"
      ],
      "metadata": {
        "_uuid": "3e286139-a088-4b83-99fc-7e03cdccb6f0",
        "_cell_guid": "2d6ee96a-1c60-43da-87be-b1f97940bc6f",
        "jupyter": {
          "outputs_hidden": false
        },
        "execution": {
          "iopub.status.busy": "2022-08-27T20:46:32.111891Z",
          "iopub.execute_input": "2022-08-27T20:46:32.113111Z",
          "iopub.status.idle": "2022-08-27T20:46:32.120914Z",
          "shell.execute_reply.started": "2022-08-27T20:46:32.113052Z",
          "shell.execute_reply": "2022-08-27T20:46:32.120143Z"
        },
        "trusted": true,
        "id": "8JcH8r9OE_dT"
      },
      "execution_count": null,
      "outputs": []
    },
    {
      "cell_type": "code",
      "source": [
        "train_data.isnull().sum()"
      ],
      "metadata": {
        "_uuid": "0f947557-2c5e-4ccf-9893-ffa40e092ba1",
        "_cell_guid": "fe35a8fd-a8c7-40de-8f0f-b1a963a9d5bf",
        "jupyter": {
          "outputs_hidden": false
        },
        "execution": {
          "iopub.status.busy": "2022-08-27T20:46:32.122526Z",
          "iopub.execute_input": "2022-08-27T20:46:32.123367Z",
          "iopub.status.idle": "2022-08-27T20:46:32.135406Z",
          "shell.execute_reply.started": "2022-08-27T20:46:32.123324Z",
          "shell.execute_reply": "2022-08-27T20:46:32.134049Z"
        },
        "trusted": true,
        "id": "P8ePL5h-E_dU"
      },
      "execution_count": null,
      "outputs": []
    },
    {
      "cell_type": "markdown",
      "source": [
        "## Data analysis"
      ],
      "metadata": {
        "_uuid": "68515e9d-1641-4471-89fc-7d44f0ce26a8",
        "_cell_guid": "280f0ea1-d4c2-4fd3-a735-fa0c206e5507",
        "trusted": true,
        "id": "aeDm1SK5E_dV"
      }
    },
    {
      "cell_type": "code",
      "source": [
        "train_data.describe()"
      ],
      "metadata": {
        "_uuid": "d534251f-a5a9-45be-b41b-1fd10aa08bac",
        "_cell_guid": "76bc25fe-886e-4095-8b4e-3dfbe715e0a9",
        "jupyter": {
          "outputs_hidden": false
        },
        "execution": {
          "iopub.status.busy": "2022-08-27T20:46:32.138319Z",
          "iopub.execute_input": "2022-08-27T20:46:32.140267Z",
          "iopub.status.idle": "2022-08-27T20:46:32.175244Z",
          "shell.execute_reply.started": "2022-08-27T20:46:32.140223Z",
          "shell.execute_reply": "2022-08-27T20:46:32.173907Z"
        },
        "trusted": true,
        "id": "16DhJA16E_dV"
      },
      "execution_count": null,
      "outputs": []
    },
    {
      "cell_type": "code",
      "source": [
        "train_data['Survived'].value_counts()"
      ],
      "metadata": {
        "_uuid": "5d2bdaa1-39e9-42bb-8bdf-473356ce0340",
        "_cell_guid": "f002c65b-63d1-4c2e-b147-34b08361ddfe",
        "jupyter": {
          "outputs_hidden": false
        },
        "execution": {
          "iopub.status.busy": "2022-08-27T20:46:32.176806Z",
          "iopub.execute_input": "2022-08-27T20:46:32.177567Z",
          "iopub.status.idle": "2022-08-27T20:46:32.187390Z",
          "shell.execute_reply.started": "2022-08-27T20:46:32.177523Z",
          "shell.execute_reply": "2022-08-27T20:46:32.186554Z"
        },
        "trusted": true,
        "id": "9fiu-RfkE_dW"
      },
      "execution_count": null,
      "outputs": []
    },
    {
      "cell_type": "markdown",
      "source": [
        "## Data visualization"
      ],
      "metadata": {
        "_uuid": "2c3dc6bd-1387-415e-86d9-7d97079c15fe",
        "_cell_guid": "660a736f-e760-4318-ab97-1424c55bd8c5",
        "trusted": true,
        "id": "jKUVb372E_dW"
      }
    },
    {
      "cell_type": "code",
      "source": [
        "sns.set()"
      ],
      "metadata": {
        "_uuid": "3ff40198-1123-456e-b9bf-35411c0a3580",
        "_cell_guid": "a36c32bc-31ce-41ac-96a8-30871033fb1a",
        "jupyter": {
          "outputs_hidden": false
        },
        "execution": {
          "iopub.status.busy": "2022-08-27T20:46:32.188946Z",
          "iopub.execute_input": "2022-08-27T20:46:32.189689Z",
          "iopub.status.idle": "2022-08-27T20:46:32.195606Z",
          "shell.execute_reply.started": "2022-08-27T20:46:32.189647Z",
          "shell.execute_reply": "2022-08-27T20:46:32.194561Z"
        },
        "trusted": true,
        "id": "g4tqkqP8E_dX"
      },
      "execution_count": null,
      "outputs": []
    },
    {
      "cell_type": "code",
      "source": [
        "sns.countplot('Survived',data=train_data)"
      ],
      "metadata": {
        "_uuid": "694e6cca-ac63-4c66-b8b1-308f11f44d10",
        "_cell_guid": "5d101987-cfb3-4d03-bc59-1bd35c48a873",
        "jupyter": {
          "outputs_hidden": false
        },
        "execution": {
          "iopub.status.busy": "2022-08-27T20:46:32.197373Z",
          "iopub.execute_input": "2022-08-27T20:46:32.197896Z",
          "iopub.status.idle": "2022-08-27T20:46:32.398967Z",
          "shell.execute_reply.started": "2022-08-27T20:46:32.197847Z",
          "shell.execute_reply": "2022-08-27T20:46:32.398124Z"
        },
        "trusted": true,
        "id": "teIZ1ab_E_dY"
      },
      "execution_count": null,
      "outputs": []
    },
    {
      "cell_type": "code",
      "source": [
        "sns.countplot('Sex',data=train_data)"
      ],
      "metadata": {
        "_uuid": "d09b6a3a-68c5-44e7-a54c-64bb6ce3e6ec",
        "_cell_guid": "72c3173b-4a8c-4539-8e1e-21f409a2a1c0",
        "jupyter": {
          "outputs_hidden": false
        },
        "execution": {
          "iopub.status.busy": "2022-08-27T20:46:32.400362Z",
          "iopub.execute_input": "2022-08-27T20:46:32.401100Z",
          "iopub.status.idle": "2022-08-27T20:46:32.602118Z",
          "shell.execute_reply.started": "2022-08-27T20:46:32.401058Z",
          "shell.execute_reply": "2022-08-27T20:46:32.601232Z"
        },
        "trusted": true,
        "id": "_nrdFMMSE_dY"
      },
      "execution_count": null,
      "outputs": []
    },
    {
      "cell_type": "code",
      "source": [
        "sns.countplot('Sex',hue='Survived',data=train_data)"
      ],
      "metadata": {
        "_uuid": "5b4daf06-ed24-4c75-843b-97c04b4c67a9",
        "_cell_guid": "00b02629-e1b3-409f-a5e5-72a44144c03d",
        "execution": {
          "iopub.status.busy": "2022-08-27T20:46:32.603326Z",
          "iopub.execute_input": "2022-08-27T20:46:32.603638Z",
          "iopub.status.idle": "2022-08-27T20:46:32.825773Z",
          "shell.execute_reply.started": "2022-08-27T20:46:32.603610Z",
          "shell.execute_reply": "2022-08-27T20:46:32.824597Z"
        },
        "trusted": true,
        "id": "e069ggCME_dY"
      },
      "execution_count": null,
      "outputs": []
    },
    {
      "cell_type": "code",
      "source": [
        "sns.countplot('Pclass',hue='Survived',data=train_data)"
      ],
      "metadata": {
        "_uuid": "ce0da896-ae65-49a8-949e-f934564f1385",
        "_cell_guid": "699f370e-d705-4fa3-ab76-05dd9fcd1005",
        "jupyter": {
          "outputs_hidden": false
        },
        "execution": {
          "iopub.status.busy": "2022-08-27T20:46:32.827456Z",
          "iopub.execute_input": "2022-08-27T20:46:32.828560Z",
          "iopub.status.idle": "2022-08-27T20:46:33.077765Z",
          "shell.execute_reply.started": "2022-08-27T20:46:32.828521Z",
          "shell.execute_reply": "2022-08-27T20:46:33.076637Z"
        },
        "trusted": true,
        "id": "4aqPxQOlE_dZ"
      },
      "execution_count": null,
      "outputs": []
    },
    {
      "cell_type": "markdown",
      "source": [
        "## Encoding the categorical variables"
      ],
      "metadata": {
        "_uuid": "0b168b6b-817d-41d7-90ab-cda5d0a985ba",
        "_cell_guid": "d6b57c6c-f46a-4e5e-89ee-7fff65a1c5ab",
        "trusted": true,
        "id": "uvY_b5OXE_dZ"
      }
    },
    {
      "cell_type": "code",
      "source": [
        "train_data.head()"
      ],
      "metadata": {
        "_uuid": "5ac72c8d-b9e9-4eec-896d-e1ec5d0df603",
        "_cell_guid": "5ec9df06-5763-4f6a-b686-02c3a3fef722",
        "jupyter": {
          "outputs_hidden": false
        },
        "execution": {
          "iopub.status.busy": "2022-08-27T20:46:33.079131Z",
          "iopub.execute_input": "2022-08-27T20:46:33.079464Z",
          "iopub.status.idle": "2022-08-27T20:46:33.096417Z",
          "shell.execute_reply.started": "2022-08-27T20:46:33.079435Z",
          "shell.execute_reply": "2022-08-27T20:46:33.095669Z"
        },
        "trusted": true,
        "id": "ZDPLZgYVE_da"
      },
      "execution_count": null,
      "outputs": []
    },
    {
      "cell_type": "code",
      "source": [
        "train_data['Sex'].value_counts()"
      ],
      "metadata": {
        "_uuid": "15a34d0d-e601-4221-9701-9ca00aaba1ed",
        "_cell_guid": "29e0901e-eeca-4cac-a0b6-86e1691e6699",
        "jupyter": {
          "outputs_hidden": false
        },
        "execution": {
          "iopub.status.busy": "2022-08-27T20:46:33.097404Z",
          "iopub.execute_input": "2022-08-27T20:46:33.097903Z",
          "iopub.status.idle": "2022-08-27T20:46:33.106775Z",
          "shell.execute_reply.started": "2022-08-27T20:46:33.097872Z",
          "shell.execute_reply": "2022-08-27T20:46:33.105397Z"
        },
        "trusted": true,
        "id": "5AxxSbS0E_da"
      },
      "execution_count": null,
      "outputs": []
    },
    {
      "cell_type": "code",
      "source": [
        "train_data['Embarked'].value_counts()"
      ],
      "metadata": {
        "_uuid": "bd6348ef-f82c-4cf7-87b4-4dab36cce5c1",
        "_cell_guid": "43572b06-7fcd-4d45-8ed4-d1877f6d3586",
        "jupyter": {
          "outputs_hidden": false
        },
        "execution": {
          "iopub.status.busy": "2022-08-27T20:46:33.108415Z",
          "iopub.execute_input": "2022-08-27T20:46:33.109662Z",
          "iopub.status.idle": "2022-08-27T20:46:33.122385Z",
          "shell.execute_reply.started": "2022-08-27T20:46:33.109616Z",
          "shell.execute_reply": "2022-08-27T20:46:33.121424Z"
        },
        "trusted": true,
        "id": "DKfMcRoJE_da"
      },
      "execution_count": null,
      "outputs": []
    },
    {
      "cell_type": "code",
      "source": [
        "# Converting categorical variables\n",
        "train_data.replace({'Sex':{'male':0,'female':1},'Embarked':{'S':0,'C':1,'Q':2}},inplace=True)"
      ],
      "metadata": {
        "_uuid": "a994caef-adf0-4759-bae4-d332e547792d",
        "_cell_guid": "21fa6118-588c-4094-9f92-ddcd744efab6",
        "jupyter": {
          "outputs_hidden": false
        },
        "execution": {
          "iopub.status.busy": "2022-08-27T20:46:33.123518Z",
          "iopub.execute_input": "2022-08-27T20:46:33.123910Z",
          "iopub.status.idle": "2022-08-27T20:46:33.136389Z",
          "shell.execute_reply.started": "2022-08-27T20:46:33.123865Z",
          "shell.execute_reply": "2022-08-27T20:46:33.135235Z"
        },
        "trusted": true,
        "id": "6b2mv44xE_db"
      },
      "execution_count": null,
      "outputs": []
    },
    {
      "cell_type": "code",
      "source": [
        "train_data.head()"
      ],
      "metadata": {
        "_uuid": "c6424a6f-166f-4f1b-893d-7fdd34e26f46",
        "_cell_guid": "3d68bc0d-5d5e-42ac-85a5-694c0a98d036",
        "jupyter": {
          "outputs_hidden": false
        },
        "execution": {
          "iopub.status.busy": "2022-08-27T20:46:33.137913Z",
          "iopub.execute_input": "2022-08-27T20:46:33.139085Z",
          "iopub.status.idle": "2022-08-27T20:46:33.160696Z",
          "shell.execute_reply.started": "2022-08-27T20:46:33.139015Z",
          "shell.execute_reply": "2022-08-27T20:46:33.159288Z"
        },
        "trusted": true,
        "id": "S2C3wtWeE_db"
      },
      "execution_count": null,
      "outputs": []
    },
    {
      "cell_type": "markdown",
      "source": [
        "## Feature Separation"
      ],
      "metadata": {
        "_uuid": "5f5e8caa-509b-4af9-aca0-3842bdd60746",
        "_cell_guid": "b4ced3d1-9cd8-418c-9aae-8e540d75fee8",
        "trusted": true,
        "id": "7hJH3cuKE_db"
      }
    },
    {
      "cell_type": "code",
      "source": [
        "X = train_data.drop(columns=['PassengerId','Survived','Ticket','Name','Ticket'])\n",
        "y=train_data['Survived']"
      ],
      "metadata": {
        "_uuid": "f0aa9e5d-82f5-41c0-b8b1-49686f3f4a2c",
        "_cell_guid": "e5b85a63-20e1-4729-9e00-ce5cf96b0b98",
        "jupyter": {
          "outputs_hidden": false
        },
        "execution": {
          "iopub.status.busy": "2022-08-27T20:46:33.165615Z",
          "iopub.execute_input": "2022-08-27T20:46:33.168699Z",
          "iopub.status.idle": "2022-08-27T20:46:33.175756Z",
          "shell.execute_reply.started": "2022-08-27T20:46:33.168651Z",
          "shell.execute_reply": "2022-08-27T20:46:33.174985Z"
        },
        "trusted": true,
        "id": "dwjdG3NCE_db"
      },
      "execution_count": null,
      "outputs": []
    },
    {
      "cell_type": "code",
      "source": [
        "print(X)"
      ],
      "metadata": {
        "_uuid": "ed4c3a92-cc60-4d10-8b1b-63f8db2dc491",
        "_cell_guid": "901dc445-b697-4b4b-83c4-660c3f406604",
        "jupyter": {
          "outputs_hidden": false
        },
        "execution": {
          "iopub.status.busy": "2022-08-27T20:46:33.178302Z",
          "iopub.execute_input": "2022-08-27T20:46:33.178728Z",
          "iopub.status.idle": "2022-08-27T20:46:33.191110Z",
          "shell.execute_reply.started": "2022-08-27T20:46:33.178687Z",
          "shell.execute_reply": "2022-08-27T20:46:33.189871Z"
        },
        "trusted": true,
        "id": "Bb0nvt-UE_db"
      },
      "execution_count": null,
      "outputs": []
    },
    {
      "cell_type": "code",
      "source": [
        "print(y)"
      ],
      "metadata": {
        "_uuid": "0e9ea073-0035-4e19-9127-ad76b432712e",
        "_cell_guid": "170256e4-a657-4ab6-900d-5a412f6ef097",
        "jupyter": {
          "outputs_hidden": false
        },
        "execution": {
          "iopub.status.busy": "2022-08-27T20:46:33.192736Z",
          "iopub.execute_input": "2022-08-27T20:46:33.193545Z",
          "iopub.status.idle": "2022-08-27T20:46:33.200521Z",
          "shell.execute_reply.started": "2022-08-27T20:46:33.193503Z",
          "shell.execute_reply": "2022-08-27T20:46:33.199586Z"
        },
        "trusted": true,
        "id": "7FAMURfyE_db"
      },
      "execution_count": null,
      "outputs": []
    },
    {
      "cell_type": "markdown",
      "source": [
        "## Splitting data into train and test sets"
      ],
      "metadata": {
        "_uuid": "5a74eca9-071a-4527-b651-6a9651c544d9",
        "_cell_guid": "181c7b66-2ffe-44bd-aeb5-8f48420db931",
        "trusted": true,
        "id": "v0dKzOELE_dc"
      }
    },
    {
      "cell_type": "code",
      "source": [
        "X_train,X_test,y_train,y_test = train_test_split(X,y,test_size=0.2,random_state=42,)"
      ],
      "metadata": {
        "_uuid": "b82b82bd-86ae-4882-b84c-60237ffb2d76",
        "_cell_guid": "49df98e7-d930-4571-8b82-c98a9db61057",
        "jupyter": {
          "outputs_hidden": false
        },
        "execution": {
          "iopub.status.busy": "2022-08-27T20:46:33.202093Z",
          "iopub.execute_input": "2022-08-27T20:46:33.202777Z",
          "iopub.status.idle": "2022-08-27T20:46:33.210888Z",
          "shell.execute_reply.started": "2022-08-27T20:46:33.202740Z",
          "shell.execute_reply": "2022-08-27T20:46:33.209714Z"
        },
        "trusted": true,
        "id": "b2hNnw0HE_dc"
      },
      "execution_count": null,
      "outputs": []
    },
    {
      "cell_type": "code",
      "source": [
        "print(X.shape,X_train.shape,X_test.shape)"
      ],
      "metadata": {
        "_uuid": "6c21b721-7061-4a49-83c7-45609922dc6a",
        "_cell_guid": "03f05487-b41e-4700-8e53-b01c39b21fe5",
        "jupyter": {
          "outputs_hidden": false
        },
        "execution": {
          "iopub.status.busy": "2022-08-27T20:46:33.212702Z",
          "iopub.execute_input": "2022-08-27T20:46:33.213379Z",
          "iopub.status.idle": "2022-08-27T20:46:33.220556Z",
          "shell.execute_reply.started": "2022-08-27T20:46:33.213338Z",
          "shell.execute_reply": "2022-08-27T20:46:33.219336Z"
        },
        "trusted": true,
        "id": "CKCv4NeEE_dc"
      },
      "execution_count": null,
      "outputs": []
    },
    {
      "cell_type": "markdown",
      "source": [
        "## Training the model"
      ],
      "metadata": {
        "_uuid": "3ea24ad0-cab5-4ffb-8ebf-1d22cd5f0a53",
        "_cell_guid": "9199b6c1-ff1b-4fd4-8a7d-891ac6eec000",
        "trusted": true,
        "id": "YQjCMcaOE_dd"
      }
    },
    {
      "cell_type": "code",
      "source": [
        "model = LogisticRegression(max_iter=3000)"
      ],
      "metadata": {
        "_uuid": "67b97347-70d1-485d-acb3-73951e50e7dc",
        "_cell_guid": "be563787-367d-4753-8f35-a33de5b82e4a",
        "jupyter": {
          "outputs_hidden": false
        },
        "execution": {
          "iopub.status.busy": "2022-08-27T20:46:33.222427Z",
          "iopub.execute_input": "2022-08-27T20:46:33.223113Z",
          "iopub.status.idle": "2022-08-27T20:46:33.229538Z",
          "shell.execute_reply.started": "2022-08-27T20:46:33.223073Z",
          "shell.execute_reply": "2022-08-27T20:46:33.228375Z"
        },
        "trusted": true,
        "id": "kE8f0ro3E_dd"
      },
      "execution_count": null,
      "outputs": []
    },
    {
      "cell_type": "code",
      "source": [
        "model.fit(X_train,y_train)"
      ],
      "metadata": {
        "_uuid": "70ff5ebd-415f-4ef9-8c0a-85c3fa21d2da",
        "_cell_guid": "f8edbea0-6d36-4475-84e0-87eaed71b45b",
        "jupyter": {
          "outputs_hidden": false
        },
        "execution": {
          "iopub.status.busy": "2022-08-27T20:46:33.231196Z",
          "iopub.execute_input": "2022-08-27T20:46:33.231883Z",
          "iopub.status.idle": "2022-08-27T20:46:33.279858Z",
          "shell.execute_reply.started": "2022-08-27T20:46:33.231843Z",
          "shell.execute_reply": "2022-08-27T20:46:33.279058Z"
        },
        "trusted": true,
        "id": "_KvX1j8EE_dd"
      },
      "execution_count": null,
      "outputs": []
    },
    {
      "cell_type": "markdown",
      "source": [
        "## Evaluation"
      ],
      "metadata": {
        "_uuid": "fb41eae1-4c3a-4539-a100-44c11b453b60",
        "_cell_guid": "1e89f11a-218c-4b52-b222-bd935adcb19a",
        "trusted": true,
        "id": "JMVAPzGKE_dd"
      }
    },
    {
      "cell_type": "code",
      "source": [
        "X_train_prediction = model.predict(X_train)\n",
        "training_data_accuracy_score=accuracy_score(X_train_prediction,y_train)"
      ],
      "metadata": {
        "_uuid": "e74f2456-1749-4db5-999e-f20814e8fa28",
        "_cell_guid": "742baa07-a3e2-440c-8cf4-40eb2c253cc1",
        "jupyter": {
          "outputs_hidden": false
        },
        "execution": {
          "iopub.status.busy": "2022-08-27T20:46:33.281564Z",
          "iopub.execute_input": "2022-08-27T20:46:33.282004Z",
          "iopub.status.idle": "2022-08-27T20:46:33.291173Z",
          "shell.execute_reply.started": "2022-08-27T20:46:33.281932Z",
          "shell.execute_reply": "2022-08-27T20:46:33.289517Z"
        },
        "trusted": true,
        "id": "vgKRPzTnE_de"
      },
      "execution_count": null,
      "outputs": []
    },
    {
      "cell_type": "code",
      "source": [
        "print('Training data accuracy is',training_data_accuracy_score)"
      ],
      "metadata": {
        "_uuid": "4c412af3-b683-4e5e-a43a-a74568963ecc",
        "_cell_guid": "d9c83cf5-d9a6-4197-87c6-ee2740e83dea",
        "jupyter": {
          "outputs_hidden": false
        },
        "execution": {
          "iopub.status.busy": "2022-08-27T20:46:33.293063Z",
          "iopub.execute_input": "2022-08-27T20:46:33.293942Z",
          "iopub.status.idle": "2022-08-27T20:46:33.301882Z",
          "shell.execute_reply.started": "2022-08-27T20:46:33.293896Z",
          "shell.execute_reply": "2022-08-27T20:46:33.301051Z"
        },
        "trusted": true,
        "id": "hxnzmwA3E_de"
      },
      "execution_count": null,
      "outputs": []
    },
    {
      "cell_type": "code",
      "source": [
        "X_test_prediction = model.predict(X_test)\n",
        "test_data_accuracy_score=accuracy_score(X_test_prediction,y_test)"
      ],
      "metadata": {
        "_uuid": "b3c719ee-6705-4ae1-ae72-9c111b62960b",
        "_cell_guid": "324a794c-3b01-4003-8a55-71d4db7565cc",
        "jupyter": {
          "outputs_hidden": false
        },
        "execution": {
          "iopub.status.busy": "2022-08-27T20:46:33.303874Z",
          "iopub.execute_input": "2022-08-27T20:46:33.304222Z",
          "iopub.status.idle": "2022-08-27T20:46:33.313854Z",
          "shell.execute_reply.started": "2022-08-27T20:46:33.304193Z",
          "shell.execute_reply": "2022-08-27T20:46:33.312754Z"
        },
        "trusted": true,
        "id": "6uQ9LHGiE_df"
      },
      "execution_count": null,
      "outputs": []
    },
    {
      "cell_type": "code",
      "source": [
        "print('Test data accuracy is',test_data_accuracy_score)"
      ],
      "metadata": {
        "_uuid": "431a4e5c-14d1-4324-b80f-109fc40bf25a",
        "_cell_guid": "2d65d5c2-4c0b-4b5a-840a-eb068c74d206",
        "jupyter": {
          "outputs_hidden": false
        },
        "execution": {
          "iopub.status.busy": "2022-08-27T20:46:33.315567Z",
          "iopub.execute_input": "2022-08-27T20:46:33.316409Z",
          "iopub.status.idle": "2022-08-27T20:46:33.322865Z",
          "shell.execute_reply.started": "2022-08-27T20:46:33.316366Z",
          "shell.execute_reply": "2022-08-27T20:46:33.321756Z"
        },
        "trusted": true,
        "id": "moWL8IgkE_df"
      },
      "execution_count": null,
      "outputs": []
    },
    {
      "cell_type": "markdown",
      "source": [
        "# test_data = pd.read_csv(\"/kaggle/input/titanic/test.csv\")\n",
        "test_data.head()Submission using Random Forest Algorithm"
      ],
      "metadata": {
        "_uuid": "c506f59e-63ed-4e4f-a223-facfd45c9fb4",
        "_cell_guid": "9f109703-adc9-48fe-aeee-ca80bf5a446a",
        "trusted": true,
        "id": "hQEpIhRyE_df"
      }
    },
    {
      "cell_type": "code",
      "source": [
        "test_data = pd.read_csv(\"/kaggle/input/titanic/test.csv\")\n",
        "test_data.head()\n",
        "\n",
        "train_data=pd.read_csv('/kaggle/input/titanic/train.csv')"
      ],
      "metadata": {
        "_uuid": "f7ec9771-cd4b-47db-ae45-a761108f0e91",
        "_cell_guid": "0653c9eb-82c6-421f-8272-ef6177099d04",
        "jupyter": {
          "outputs_hidden": false
        },
        "execution": {
          "iopub.status.busy": "2022-08-27T20:50:14.226477Z",
          "iopub.execute_input": "2022-08-27T20:50:14.226859Z",
          "iopub.status.idle": "2022-08-27T20:50:14.243108Z",
          "shell.execute_reply.started": "2022-08-27T20:50:14.226827Z",
          "shell.execute_reply": "2022-08-27T20:50:14.242248Z"
        },
        "trusted": true,
        "id": "GZkZa7PFE_df"
      },
      "execution_count": null,
      "outputs": []
    },
    {
      "cell_type": "code",
      "source": [
        "from sklearn.ensemble import RandomForestClassifier\n",
        "\n",
        "y = train_data[\"Survived\"]\n",
        "\n",
        "features = [\"Pclass\", \"Sex\", \"SibSp\", \"Parch\"]\n",
        "X = pd.get_dummies(train_data[features])\n",
        "X_test = pd.get_dummies(test_data[features])\n",
        "\n",
        "model = RandomForestClassifier(n_estimators=100, max_depth=5, random_state=1)\n",
        "model.fit(X, y)\n",
        "predictions = model.predict(X_test)\n",
        "\n",
        "output = pd.DataFrame({'PassengerId': test_data.PassengerId, 'Survived': predictions})\n",
        "output.to_csv('submission.csv', index=False)\n",
        "print(\"Your submission was successfully saved!\")"
      ],
      "metadata": {
        "_uuid": "2c033774-d75b-4400-a7a1-c108d423d1ed",
        "_cell_guid": "4d478db5-97eb-4906-911a-d4d3cb94a2e6",
        "jupyter": {
          "outputs_hidden": false
        },
        "execution": {
          "iopub.status.busy": "2022-08-27T20:50:15.381794Z",
          "iopub.execute_input": "2022-08-27T20:50:15.382813Z",
          "iopub.status.idle": "2022-08-27T20:50:15.585055Z",
          "shell.execute_reply.started": "2022-08-27T20:50:15.382762Z",
          "shell.execute_reply": "2022-08-27T20:50:15.584227Z"
        },
        "trusted": true,
        "id": "MoFJDrZUE_dg"
      },
      "execution_count": null,
      "outputs": []
    },
    {
      "cell_type": "code",
      "source": [],
      "metadata": {
        "_uuid": "8cdae35b-f5a2-4f7c-acb9-b868eb0bcb70",
        "_cell_guid": "df1688e2-a499-4fa9-8618-500e283e3ef3",
        "jupyter": {
          "outputs_hidden": false
        },
        "trusted": true,
        "id": "p5zcT-vGE_dg"
      },
      "execution_count": null,
      "outputs": []
    }
  ]
}